{
 "cells": [
  {
   "cell_type": "markdown",
   "id": "d3bfc191-8885-42ee-b0a0-bbab867c6f9f",
   "metadata": {
    "tags": []
   },
   "source": [
    "# Lab | Flow Control"
   ]
  },
  {
   "cell_type": "markdown",
   "id": "3851fcd1-cf98-4653-9c89-e003b7ec9400",
   "metadata": {},
   "source": [
    "## Exercise: Managing Customer Orders Optimized\n",
    "\n",
    "In the last lab, you were starting an online store that sells various products. To ensure smooth operations, you developed a program that manages customer orders and inventory.\n",
    "\n",
    "You did so without using flow control. Let's go a step further and improve this code.\n",
    "\n",
    "Follow the steps below to complete the exercise:\n",
    "\n",
    "1. Look at your code from the lab data structures, and improve repeated code with loops.\n",
    "\n",
    "2. Instead of asking the user to input the name of three products that a customer wants to order, do the following:\n",
    "    \n",
    "    a. Prompt the user to enter the name of a product that a customer wants to order.\n",
    "    \n",
    "    b. Add the product name to the \"customer_orders\" set.\n",
    "    \n",
    "    c. Ask the user if they want to add another product (yes/no).\n",
    "    \n",
    "    d. Continue the loop until the user does not want to add another product.\n",
    "\n",
    "3. Instead of updating the inventory by subtracting 1 from the quantity of each product, only do it for  the products that were ordered (those in \"customer_orders\")."
   ]
  },
  {
   "cell_type": "code",
   "execution_count": 65,
   "id": "c4b83a6a-7f35-4813-8aec-bf68aedee8d1",
   "metadata": {},
   "outputs": [],
   "source": [
    "# Step 1\n",
    "products = [\"t-shirt\", \"mug\", \"hat\", \"book\", \"keychain\"]"
   ]
  },
  {
   "cell_type": "code",
   "execution_count": 67,
   "id": "828912a3-f5a1-41f5-ad46-519e0a7afc76",
   "metadata": {},
   "outputs": [],
   "source": [
    "# Step 2\n",
    "inventory = {}"
   ]
  },
  {
   "cell_type": "code",
   "execution_count": 69,
   "id": "638fa61f-0d33-4b48-b48a-0d6df026e3e0",
   "metadata": {},
   "outputs": [
    {
     "name": "stdin",
     "output_type": "stream",
     "text": [
      "Enter the quantity of t-shirts available:  6\n",
      "Enter the quantity of mugs available:  7\n",
      "Enter the quantity of hats available:  8\n",
      "Enter the quantity of books available:  9\n",
      "Enter the quantity of keychains available:  10\n"
     ]
    }
   ],
   "source": [
    "#Step 3 Use a loop to input inventory quantities\n",
    "for product in products:\n",
    "    quantity = int(input(f\"Enter the quantity of {product}s available: \"))\n",
    "    inventory[product] = quantity"
   ]
  },
  {
   "cell_type": "code",
   "execution_count": 71,
   "id": "e1361cef-a321-42fe-b5eb-127cee868432",
   "metadata": {},
   "outputs": [],
   "source": [
    "#Step 4\n",
    "customer_order = set()"
   ]
  },
  {
   "cell_type": "code",
   "execution_count": 73,
   "id": "df2497bb-cbea-4d56-8aea-314ec2804779",
   "metadata": {},
   "outputs": [
    {
     "name": "stdin",
     "output_type": "stream",
     "text": [
      "Enter the name of a product that a customer wants to order:  mug\n"
     ]
    },
    {
     "name": "stdout",
     "output_type": "stream",
     "text": [
      "Current_customer_order {'mug'}\n"
     ]
    },
    {
     "name": "stdin",
     "output_type": "stream",
     "text": [
      "Do you want to add another product? (yes/no):  yes\n",
      "Enter the name of a product that a customer wants to order:  hat\n"
     ]
    },
    {
     "name": "stdout",
     "output_type": "stream",
     "text": [
      "Current_customer_order {'hat', 'mug'}\n"
     ]
    },
    {
     "name": "stdin",
     "output_type": "stream",
     "text": [
      "Do you want to add another product? (yes/no):  yes\n",
      "Enter the name of a product that a customer wants to order:  keychain\n"
     ]
    },
    {
     "name": "stdout",
     "output_type": "stream",
     "text": [
      "Current_customer_order {'keychain', 'hat', 'mug'}\n"
     ]
    },
    {
     "name": "stdin",
     "output_type": "stream",
     "text": [
      "Do you want to add another product? (yes/no):  no\n"
     ]
    }
   ],
   "source": [
    "#Step 5 Loop to add products to customer order\n",
    "while True:\n",
    "    product_name = input(\"Enter the name of a product that a customer wants to order: \")\n",
    "    if product_name in products:\n",
    "        customer_order.add(product_name)\n",
    "        print(\"Current_customer_order\", customer_order)\n",
    "    else:\n",
    "        print(\"Product not available. Please enter a valid product.\")\n",
    "\n",
    "    another = input(\"Do you want to add another product? (yes/no): \").strip().lower()\n",
    "    if another != 'yes':\n",
    "        break"
   ]
  },
  {
   "cell_type": "code",
   "execution_count": 75,
   "id": "db4ab025-a3ca-4d6a-9811-b1a4014154ba",
   "metadata": {},
   "outputs": [
    {
     "name": "stdout",
     "output_type": "stream",
     "text": [
      "Products in customer order: {'keychain', 'hat', 'mug'}\n"
     ]
    }
   ],
   "source": [
    "# Step 6\n",
    "print(\"Products in customer order:\", customer_order)"
   ]
  },
  {
   "cell_type": "code",
   "execution_count": 77,
   "id": "e4d2ce8d-4c5e-406d-9bc9-73c1bd4356a1",
   "metadata": {},
   "outputs": [],
   "source": [
    "# Step 7\n",
    "total_products_ordered = len(customer_orders)\n",
    "percentage_ordered = (total_products_ordered / len(products)) * 100\n",
    "order_status = (total_products_ordered, percentage_ordered)"
   ]
  },
  {
   "cell_type": "code",
   "execution_count": 79,
   "id": "a22b30ab-7af1-4b19-bb7e-185ee033e0bc",
   "metadata": {},
   "outputs": [
    {
     "name": "stdout",
     "output_type": "stream",
     "text": [
      "Order Statistics:\n",
      "Total Products Ordered: 3\n",
      "Percentage of Unique Products Ordered: 60.0\n"
     ]
    }
   ],
   "source": [
    "# Step 8\n",
    "print(\"Order Statistics:\")\n",
    "print(\"Total Products Ordered:\", order_status[0])\n",
    "print(\"Percentage of Unique Products Ordered:\", order_status[1])"
   ]
  },
  {
   "cell_type": "code",
   "execution_count": 81,
   "id": "16c85ae4-71fc-470e-9842-4f94a8f5f6bf",
   "metadata": {},
   "outputs": [],
   "source": [
    "#Step 9\n",
    "for product in customer_orders:\n",
    "    if product in inventory and inventory[product] > 0:\n",
    "        inventory[product] -= 1"
   ]
  },
  {
   "cell_type": "code",
   "execution_count": 83,
   "id": "5ac0b70e-49a8-417b-9ac2-ecbefa3894da",
   "metadata": {},
   "outputs": [
    {
     "name": "stdout",
     "output_type": "stream",
     "text": [
      "Updated Inventory:\n",
      "t-shirt:6\n",
      "mug:6\n",
      "hat:7\n",
      "book:9\n",
      "keychain:10\n"
     ]
    }
   ],
   "source": [
    "#Step 10\n",
    "print(\"Updated Inventory:\")\n",
    "for product in products:\n",
    "    print(f\"{product}:{inventory[product]}\")"
   ]
  }
 ],
 "metadata": {
  "kernelspec": {
   "display_name": "Python [conda env:base] *",
   "language": "python",
   "name": "conda-base-py"
  },
  "language_info": {
   "codemirror_mode": {
    "name": "ipython",
    "version": 3
   },
   "file_extension": ".py",
   "mimetype": "text/x-python",
   "name": "python",
   "nbconvert_exporter": "python",
   "pygments_lexer": "ipython3",
   "version": "3.12.7"
  }
 },
 "nbformat": 4,
 "nbformat_minor": 5
}
