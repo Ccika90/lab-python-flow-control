{
 "cells": [
  {
   "cell_type": "code",
   "execution_count": 72,
   "id": "832d80a0-716f-4d89-b9b3-e8fe2b63a2c9",
   "metadata": {},
   "outputs": [
    {
     "name": "stdout",
     "output_type": "stream",
     "text": [
      "Hello, World!\n"
     ]
    }
   ],
   "source": [
    "print('Hello, World!')"
   ]
  },
  {
   "cell_type": "code",
   "execution_count": 74,
   "id": "27b0f906-2527-456d-8976-1e4b7b61da50",
   "metadata": {},
   "outputs": [
    {
     "name": "stdout",
     "output_type": "stream",
     "text": [
      "3\n",
      "42\n",
      "\n",
      "The end\n"
     ]
    }
   ],
   "source": [
    "print (1 + 2)\n",
    "print (7 * 6)\n",
    "print()\n",
    "print('The end')"
   ]
  },
  {
   "cell_type": "code",
   "execution_count": 78,
   "id": "c0a402ca-f5a6-43a1-b62f-16dde1fc2053",
   "metadata": {},
   "outputs": [
    {
     "name": "stdout",
     "output_type": "stream",
     "text": [
      "3\n",
      "42\n",
      "\n",
      "The end or is it? Keep watching to learn more about python 3\n"
     ]
    }
   ],
   "source": [
    "print (1 + 2)\n",
    "print (7 * 6)\n",
    "print()\n",
    "print('The end', 'or is it?', 'Keep watching to learn more about python', 3)"
   ]
  },
  {
   "cell_type": "code",
   "execution_count": 86,
   "id": "68f908e5-1b67-4afe-ab8c-9b38d93b4599",
   "metadata": {},
   "outputs": [
    {
     "name": "stdout",
     "output_type": "stream",
     "text": [
      "Today is a good day to learn python\n",
      "Python is fun\n",
      "Python's string are easy to use\n",
      "We can even include \"quotes\" in strings\n",
      "hello world\n"
     ]
    },
    {
     "name": "stdin",
     "output_type": "stream",
     "text": [
      "Please enter your name Chika\n"
     ]
    },
    {
     "name": "stdout",
     "output_type": "stream",
     "text": [
      "HelloChika\n",
      "Hello Chika\n"
     ]
    }
   ],
   "source": [
    "#strings can be closed with a singlee quote or a double quote\n",
    "print(\"Today is a good day to learn python\")\n",
    "print('Python is fun')\n",
    "print(\"Python's string are easy to use\")\n",
    "print('We can even include \"quotes\" in strings')\n",
    "print(\"hello\" + \" \" + \"world\")\n",
    "greeting = \"Hello\"\n",
    "name = input(\"Please enter your name\")\n",
    "print(greeting + name)\n",
    "print (greeting + \" \" + name)"
   ]
  },
  {
   "cell_type": "code",
   "execution_count": null,
   "id": "44b80049-3ed8-4092-85af-4c6896c149cc",
   "metadata": {},
   "outputs": [],
   "source": []
  }
 ],
 "metadata": {
  "kernelspec": {
   "display_name": "Python [conda env:base] *",
   "language": "python",
   "name": "conda-base-py"
  },
  "language_info": {
   "codemirror_mode": {
    "name": "ipython",
    "version": 3
   },
   "file_extension": ".py",
   "mimetype": "text/x-python",
   "name": "python",
   "nbconvert_exporter": "python",
   "pygments_lexer": "ipython3",
   "version": "3.12.7"
  }
 },
 "nbformat": 4,
 "nbformat_minor": 5
}
